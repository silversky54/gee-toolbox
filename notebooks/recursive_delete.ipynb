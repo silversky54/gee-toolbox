{
 "cells": [
  {
   "cell_type": "code",
   "execution_count": 8,
   "metadata": {},
   "outputs": [],
   "source": [
    "import ee\n",
    "from gee_toolbox.gee import assets "
   ]
  },
  {
   "cell_type": "code",
   "execution_count": 9,
   "metadata": {},
   "outputs": [],
   "source": [
    "ee.Authenticate()\n",
    "ee.Initialize(project=\"ee-chompitest\")"
   ]
  },
  {
   "cell_type": "code",
   "execution_count": 11,
   "metadata": {},
   "outputs": [
    {
     "name": "stdout",
     "output_type": "stream",
     "text": [
      "******************************************************\n",
      "WARNING\n",
      "******************************************************\n",
      "You are about to delete the following assets:\n",
      "-Images: 8\n",
      "-Image Collections: 2\n",
      "-Tables: 2\n",
      "-Folders: 1\n",
      "Target: projects/ee-chompitest/assets/test_rm/folder1\n",
      "\n",
      "Dry run, no items will be deleted\n"
     ]
    }
   ],
   "source": [
    "asset_path=\"projects/ee-chompitest/assets/test_rm/folder1\"\n",
    "\n",
    "delete_results=assets.prune(\n",
    "    asset=asset_path,\n",
    "    asset_types=[],\n",
    "    recursive=True,\n",
    "    expand_image_collections=True,\n",
    "    inclusive=False,\n",
    "    silent=False,\n",
    "    dry_run=True\n",
    ")\n",
    "\n",
    "\n"
   ]
  }
 ],
 "metadata": {
  "kernelspec": {
   "display_name": "asset_rm",
   "language": "python",
   "name": "python3"
  },
  "language_info": {
   "codemirror_mode": {
    "name": "ipython",
    "version": 3
   },
   "file_extension": ".py",
   "mimetype": "text/x-python",
   "name": "python",
   "nbconvert_exporter": "python",
   "pygments_lexer": "ipython3",
   "version": "3.12.5"
  }
 },
 "nbformat": 4,
 "nbformat_minor": 2
}
